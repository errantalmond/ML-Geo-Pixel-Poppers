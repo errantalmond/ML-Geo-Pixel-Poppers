{
 "cells": [
  {
   "cell_type": "markdown",
   "metadata": {},
   "source": [
    "1. PCA on thin section channels to find best channels for mineral identification\n",
    "2. RGB image compilation\n",
    "3. Training dataset creation (binary image masking)\n",
    "4. Make a pandas training and testing dataset. \n",
    "5. Train models\n",
    "\n",
    "    Clustering: \n",
    "        Characterize distributions of elements in different clusters (compare with unclustered distributions)\n",
    "\n",
    "\n",
    "How unbalanced is our dataset? How many of each class are available in our dataset?"
   ]
  },
  {
   "cell_type": "markdown",
   "metadata": {},
   "source": [
    "# Create a data structure\n"
   ]
  },
  {
   "cell_type": "markdown",
   "metadata": {},
   "source": [
    "|Index #| Pixel_Coordinates | Feature_Vector            | Label           | Metadata_Pixel        | Metadata_Dataset        |\n",
    "|--|-------------------:|---------------------------|-----------------|------------------------|-------------------------|\n",
    "|0| (x1, y1, z1)       | [feature_vector1]         | [label1]        | (metadata1_pixel)      | {Metadata_Dataset}      |\n",
    "|1| (x2, y2, z2)       | [feature_vector2]         | [label2]        | (metadata2_pixel)      | {Metadata_Dataset}      |\n",
    "|...| ...               | ...                       | ...             | ...                    | ...                     |\n"
   ]
  },
  {
   "cell_type": "code",
   "execution_count": 97,
   "metadata": {},
   "outputs": [
    {
     "ename": "NameError",
     "evalue": "name 'x1' is not defined",
     "output_type": "error",
     "traceback": [
      "\u001b[0;31m---------------------------------------------------------------------------\u001b[0m",
      "\u001b[0;31mNameError\u001b[0m                                 Traceback (most recent call last)",
      "\u001b[1;32m/Users/jonathanlindenmann/jonspace/000_aut_23/ESS469/Git/ML-Geo-Pixel-Poppers/ESS469_Project_ML.ipynb Cell 4\u001b[0m line \u001b[0;36m5\n\u001b[1;32m      <a href='vscode-notebook-cell:/Users/jonathanlindenmann/jonspace/000_aut_23/ESS469/Git/ML-Geo-Pixel-Poppers/ESS469_Project_ML.ipynb#X22sZmlsZQ%3D%3D?line=1'>2</a>\u001b[0m \u001b[39mimport\u001b[39;00m \u001b[39mpandas\u001b[39;00m \u001b[39mas\u001b[39;00m \u001b[39mpd\u001b[39;00m\n\u001b[1;32m      <a href='vscode-notebook-cell:/Users/jonathanlindenmann/jonspace/000_aut_23/ESS469/Git/ML-Geo-Pixel-Poppers/ESS469_Project_ML.ipynb#X22sZmlsZQ%3D%3D?line=3'>4</a>\u001b[0m \u001b[39m# Assuming the following lists are available after processing\u001b[39;00m\n\u001b[0;32m----> <a href='vscode-notebook-cell:/Users/jonathanlindenmann/jonspace/000_aut_23/ESS469/Git/ML-Geo-Pixel-Poppers/ESS469_Project_ML.ipynb#X22sZmlsZQ%3D%3D?line=4'>5</a>\u001b[0m pixel_coordinates \u001b[39m=\u001b[39m [(x1, y1, z1), (x2, y2, z2), \u001b[39m.\u001b[39m\u001b[39m.\u001b[39m\u001b[39m.\u001b[39m]  \u001b[39m# List of 3D coordinates\u001b[39;00m\n\u001b[1;32m      <a href='vscode-notebook-cell:/Users/jonathanlindenmann/jonspace/000_aut_23/ESS469/Git/ML-Geo-Pixel-Poppers/ESS469_Project_ML.ipynb#X22sZmlsZQ%3D%3D?line=5'>6</a>\u001b[0m feature_vectors \u001b[39m=\u001b[39m [feature_vector1, feature_vector2, \u001b[39m.\u001b[39m\u001b[39m.\u001b[39m\u001b[39m.\u001b[39m]  \u001b[39m# List of feature vectors for each pixel\u001b[39;00m\n\u001b[1;32m      <a href='vscode-notebook-cell:/Users/jonathanlindenmann/jonspace/000_aut_23/ESS469/Git/ML-Geo-Pixel-Poppers/ESS469_Project_ML.ipynb#X22sZmlsZQ%3D%3D?line=6'>7</a>\u001b[0m labels \u001b[39m=\u001b[39m [label1, label2, \u001b[39m.\u001b[39m\u001b[39m.\u001b[39m\u001b[39m.\u001b[39m]  \u001b[39m# List of labels for each pixel\u001b[39;00m\n",
      "\u001b[0;31mNameError\u001b[0m: name 'x1' is not defined"
     ]
    }
   ],
   "source": [
    "import numpy as np\n",
    "import pandas as pd\n",
    "\n",
    "# Assuming the following lists are available after processing\n",
    "pixel_coordinates = [(x1, y1, z1), (x2, y2, z2), ...]  # List of 3D coordinates\n",
    "feature_vectors = [feature_vector1, feature_vector2, ...]  # List of feature vectors for each pixel\n",
    "labels = [label1, label2, ...]  # List of labels for each pixel\n",
    "metadata_pixel = [(metadata1_pixel), (metadata2_pixel), ...]  # List of metadata for each pixel\n",
    "metadata_dataset = {...}  # Metadata for the entire dataset\n",
    "\n",
    "# Create a DataFrame\n",
    "df = pd.DataFrame({\n",
    "    'Pixel_Coordinates': pixel_coordinates,\n",
    "    'Feature_Vector': feature_vectors,\n",
    "    'Label': labels,\n",
    "    'Metadata_Pixel': metadata_pixel\n",
    "})\n",
    "\n",
    "# Add additional metadata for the entire dataset\n",
    "df['Metadata_Dataset'] = metadata_dataset\n",
    "\n",
    "# Display the DataFrame\n",
    "print(df.head())\n"
   ]
  },
  {
   "cell_type": "markdown",
   "metadata": {},
   "source": [
    "1. Initialize a Pandas dataframe\n",
    "2. Load each .tif as a numpy array and append it as a Pandas Series.\n",
    "    2.1 channels (grayscale) (.tif)\n",
    "    2.2 masks (binary) (.tif)\n",
    "    2.3 mineral_type (strings)\n",
    "    2.4 element_type (strings from filenames)\n",
    "3. Combine the masks and channels to create a labelled dataset.\n",
    "\n",
    "The dataset is created as a pandas DataFrame for each thin section, which can then be combined into an xarray. \n",
    "|Metadata|x-coords|y-coords|Ch1|Ch2|...|Ch9|Ch10|mask_A|mask_B|\n",
    "|---|---|---|---|---|---|---|---|---|---|\n",
    "|- Thin section name, element names, mineral phases | 1D array|1D array|2D array|2D array|...|2D array|2D array|2D array|2D array|\n",
    "\n"
   ]
  },
  {
   "cell_type": "markdown",
   "metadata": {},
   "source": [
    "Import packages."
   ]
  },
  {
   "cell_type": "code",
   "execution_count": 98,
   "metadata": {},
   "outputs": [],
   "source": [
    "import pandas as pd\n",
    "import numpy as np\n",
    "import rasterio\n",
    "import os\n",
    "from PIL import Image\n"
   ]
  },
  {
   "cell_type": "markdown",
   "metadata": {},
   "source": [
    "Load tiffs and filenames in, process, and insert into a thin section dataframe. "
   ]
  },
  {
   "cell_type": "code",
   "execution_count": 96,
   "metadata": {},
   "outputs": [
    {
     "name": "stdout",
     "output_type": "stream",
     "text": [
      "['78.7-10-1_Hot', '78.7-10-2_Hot', '84.7-NA-2-1_Cold', '84.7-NA2-2_Cold']\n",
      "<PIL.TiffImagePlugin.TiffImageFile image mode=P size=1152x695 at 0x139F62460>\n",
      "[[0 0 0 ... 0 0 0]\n",
      " [0 0 0 ... 0 0 0]\n",
      " [0 0 0 ... 0 0 0]\n",
      " ...\n",
      " [0 0 0 ... 0 0 0]\n",
      " [0 0 0 ... 0 0 0]\n",
      " [0 0 0 ... 0 0 0]]\n",
      "<PIL.TiffImagePlugin.TiffImageFile image mode=P size=1152x695 at 0x139F62C40>\n",
      "[[1 1 1 ... 1 1 1]\n",
      " [1 1 1 ... 1 1 1]\n",
      " [1 1 1 ... 1 1 1]\n",
      " ...\n",
      " [1 1 1 ... 1 1 1]\n",
      " [1 1 1 ... 1 1 1]\n",
      " [1 1 1 ... 1 1 1]]\n",
      "<built-in method values of dict object at 0x106882100>\n"
     ]
    },
    {
     "ename": "TypeError",
     "evalue": "arrays to stack must be passed as a \"sequence\" type such as list or tuple.",
     "output_type": "error",
     "traceback": [
      "\u001b[0;31m---------------------------------------------------------------------------\u001b[0m",
      "\u001b[0;31mTypeError\u001b[0m                                 Traceback (most recent call last)",
      "\u001b[1;32m/Users/jonathanlindenmann/jonspace/000_aut_23/ESS469/Git/ML-Geo-Pixel-Poppers/ESS469_Project_ML.ipynb Cell 9\u001b[0m line \u001b[0;36m7\n\u001b[1;32m     <a href='vscode-notebook-cell:/Users/jonathanlindenmann/jonspace/000_aut_23/ESS469/Git/ML-Geo-Pixel-Poppers/ESS469_Project_ML.ipynb#W3sZmlsZQ%3D%3D?line=68'>69</a>\u001b[0m \u001b[39mfor\u001b[39;00m ts \u001b[39min\u001b[39;00m thinSectionStacks:\n\u001b[1;32m     <a href='vscode-notebook-cell:/Users/jonathanlindenmann/jonspace/000_aut_23/ESS469/Git/ML-Geo-Pixel-Poppers/ESS469_Project_ML.ipynb#W3sZmlsZQ%3D%3D?line=69'>70</a>\u001b[0m     \u001b[39mprint\u001b[39m(ts\u001b[39m.\u001b[39mvalues)\n\u001b[0;32m---> <a href='vscode-notebook-cell:/Users/jonathanlindenmann/jonspace/000_aut_23/ESS469/Git/ML-Geo-Pixel-Poppers/ESS469_Project_ML.ipynb#W3sZmlsZQ%3D%3D?line=70'>71</a>\u001b[0m     ts_Stack \u001b[39m=\u001b[39m np\u001b[39m.\u001b[39;49mstack(ts\u001b[39m.\u001b[39;49mvalues())\n\u001b[1;32m     <a href='vscode-notebook-cell:/Users/jonathanlindenmann/jonspace/000_aut_23/ESS469/Git/ML-Geo-Pixel-Poppers/ESS469_Project_ML.ipynb#W3sZmlsZQ%3D%3D?line=71'>72</a>\u001b[0m     \u001b[39mprint\u001b[39m(ts_Stack)\n\u001b[1;32m     <a href='vscode-notebook-cell:/Users/jonathanlindenmann/jonspace/000_aut_23/ESS469/Git/ML-Geo-Pixel-Poppers/ESS469_Project_ML.ipynb#W3sZmlsZQ%3D%3D?line=72'>73</a>\u001b[0m     x,y \u001b[39m=\u001b[39m single_mapArray\u001b[39m.\u001b[39mshape\n",
      "File \u001b[0;32m~/anaconda3/envs/mlgeo/lib/python3.9/site-packages/numpy/core/shape_base.py:364\u001b[0m, in \u001b[0;36m_stack_dispatcher\u001b[0;34m(arrays, axis, out, dtype, casting)\u001b[0m\n\u001b[1;32m    362\u001b[0m \u001b[39mdef\u001b[39;00m \u001b[39m_stack_dispatcher\u001b[39m(arrays, axis\u001b[39m=\u001b[39m\u001b[39mNone\u001b[39;00m, out\u001b[39m=\u001b[39m\u001b[39mNone\u001b[39;00m, \u001b[39m*\u001b[39m,\n\u001b[1;32m    363\u001b[0m                       dtype\u001b[39m=\u001b[39m\u001b[39mNone\u001b[39;00m, casting\u001b[39m=\u001b[39m\u001b[39mNone\u001b[39;00m):\n\u001b[0;32m--> 364\u001b[0m     arrays \u001b[39m=\u001b[39m _arrays_for_stack_dispatcher(arrays)\n\u001b[1;32m    365\u001b[0m     \u001b[39mif\u001b[39;00m out \u001b[39mis\u001b[39;00m \u001b[39mnot\u001b[39;00m \u001b[39mNone\u001b[39;00m:\n\u001b[1;32m    366\u001b[0m         \u001b[39m# optimize for the typical case where only arrays is provided\u001b[39;00m\n\u001b[1;32m    367\u001b[0m         arrays \u001b[39m=\u001b[39m \u001b[39mlist\u001b[39m(arrays)\n",
      "File \u001b[0;32m~/anaconda3/envs/mlgeo/lib/python3.9/site-packages/numpy/core/shape_base.py:209\u001b[0m, in \u001b[0;36m_arrays_for_stack_dispatcher\u001b[0;34m(arrays)\u001b[0m\n\u001b[1;32m    207\u001b[0m \u001b[39mdef\u001b[39;00m \u001b[39m_arrays_for_stack_dispatcher\u001b[39m(arrays):\n\u001b[1;32m    208\u001b[0m     \u001b[39mif\u001b[39;00m \u001b[39mnot\u001b[39;00m \u001b[39mhasattr\u001b[39m(arrays, \u001b[39m\"\u001b[39m\u001b[39m__getitem__\u001b[39m\u001b[39m\"\u001b[39m):\n\u001b[0;32m--> 209\u001b[0m         \u001b[39mraise\u001b[39;00m \u001b[39mTypeError\u001b[39;00m(\u001b[39m'\u001b[39m\u001b[39marrays to stack must be passed as a \u001b[39m\u001b[39m\"\u001b[39m\u001b[39msequence\u001b[39m\u001b[39m\"\u001b[39m\u001b[39m type \u001b[39m\u001b[39m'\u001b[39m\n\u001b[1;32m    210\u001b[0m                         \u001b[39m'\u001b[39m\u001b[39msuch as list or tuple.\u001b[39m\u001b[39m'\u001b[39m)\n\u001b[1;32m    212\u001b[0m     \u001b[39mreturn\u001b[39;00m \u001b[39mtuple\u001b[39m(arrays)\n",
      "\u001b[0;31mTypeError\u001b[0m: arrays to stack must be passed as a \"sequence\" type such as list or tuple."
     ]
    }
   ],
   "source": [
    "# let's first get lists of all the thin sections, the channels, and the masks we'll need to access:\n",
    "\n",
    "datafolder = './Aikin_Data'\n",
    "\n",
    "# create a list of all folder names in the data folder except '.DS_Store/'\n",
    "tsNames = sorted([entry for entry in os.listdir(datafolder) \n",
    "                if os.path.isdir(os.path.join(datafolder, entry)) and 'DS_Store' not in entry])\n",
    "print(tsNames)\n",
    "# initiate a list of thin section stacks\n",
    "thinSectionStacks = []\n",
    "\n",
    "# now we can use the names list to open the files and the stacks list to store them. \n",
    "#for each thin section folder:\n",
    "for ts in range(len(tsNames)):\n",
    "    this_tsName = tsNames[ts]\n",
    "\n",
    "    # list all the filenames of maps and masks in the thin section folder\n",
    "    mapNames = sorted([entry for entry in os.listdir(os.path.join(datafolder, this_tsName, 'RAW'))\n",
    "                if 'DS_Store' not in entry])\n",
    "    maskNames = sorted([entry for entry in os.listdir(os.path.join(datafolder, this_tsName, 'masks'))\n",
    "                if 'DS_Store' not in entry])\n",
    "\n",
    "    # apply text extraction to the mapNames to get the element names. \n",
    "    elementNames = []\n",
    "    for mapName in mapNames:\n",
    "        text = mapName\n",
    "        filterList = 'UGG-W3-87.7-10.1-Full_', 'UGG-W3-78.7-10-',  'CC-84.7-R21-NA2-1_full_', 'CC-84.7-NA2.2_'\n",
    "        filter_str = filterList[ts]\n",
    "        index = text.find(filter_str)\n",
    "        extracted_str = text[index + len(filter_str): index + len(filter_str) + 2]\n",
    "        elementNames = np.append(elementNames, extracted_str)\n",
    "            \n",
    "\n",
    "    # apply text extraction to the maskNames to get the mineral names.\n",
    "    mineralNames = []\n",
    "    for maskName in maskNames:\n",
    "        text = maskName\n",
    "        filterList = 'garnet', 'Garnet', 'kspar', 'Kspar', 'Staurolite', 'staurolite'\n",
    "        for filter_str in filterList:\n",
    "            if filter_str in text:\n",
    "                mineralNames = np.append(mineralNames, filter_str.capitalize())\n",
    "                \n",
    "\n",
    "    #initialize a list to store all the stacks being loaded\n",
    "    thinSectionStacks.append(dict({'thin_section': this_tsName}))\n",
    "\n",
    "    # for each map, load the file, turn it into an array, and append it \n",
    "    for map in range(len(mapNames)):\n",
    "        filename = mapNames[map]\n",
    "        rootfolder = os.path.join('./Aikin_Data', this_tsName, 'RAW')\n",
    "        single_tsMap = Image.open(os.path.join(rootfolder, filename))\n",
    "        single_mapArray = np.asarray(single_tsMap)\n",
    "        columnName = str(elementNames[map]) + ' map'\n",
    "        thinSectionStacks[ts][columnName] = single_mapArray\n",
    "        #print(thinSectionStacks[ts][filename])\n",
    "\n",
    "\n",
    "    for mask in range(len(maskNames)):\n",
    "        filename = maskNames[mask]\n",
    "        rootfolder = os.path.join('./Aikin_Data', this_tsName, 'masks')\n",
    "        single_tsMask = Image.open(os.path.join(rootfolder, filename))\n",
    "        single_maskArray = np.asarray(single_tsMask)\n",
    "        columnName = str(mineralNames[mask]) + ' mask'\n",
    "        thinSectionStacks[ts][columnName] = single_maskArray\n",
    "    \n",
    "    # Get the shape of the stack where z is the stacking dimension\n",
    "    for ts in thinSectionStacks:\n",
    "        print(ts.values)\n",
    "        ts_Stack = np.stack(ts.values())\n",
    "        print(ts_Stack)\n",
    "        x,y = single_mapArray.shape\n",
    "    z = len(mapNames)\n",
    "    # create a coordinate grid of the same size\n",
    "    coordinates = np.indices((x,y,z))\n",
    "    print('coords:', coordinates[0])\n",
    "    # reshape coordinates to have a list of (x, y, z) tuples\n",
    "    pixel_coordinates = np.column_stack([coordinates[0].ravel(), coordinates[1].ravel(), coordinates[2].ravel()])\n",
    "\n",
    "# Display the first few rows of the coordinates\n",
    "#print(pixel_coordinates[:10])\n",
    "#print(thinSectionStacks)"
   ]
  },
  {
   "cell_type": "markdown",
   "metadata": {},
   "source": [
    "We now have a LIST containing a DICTIONARY for each thin section. Each DICTIONARY contains a thin_section key, and a key for each channel and mask, using their respective filenames. \n",
    "\n",
    "\n",
    "Next, we'll want to consolidate the pixels identified in mineral masks into a Series for each mineral.\n",
    "\n",
    "We take a copy of a stack of elemental maps and multiply each channel by the same mask; this turns all unmasked pixels into 0's and leaves the rest.\n",
    "Then we reshape the array into a 1D array and append it as a DataSeries."
   ]
  },
  {
   "cell_type": "code",
   "execution_count": 63,
   "metadata": {},
   "outputs": [
    {
     "ename": "SyntaxError",
     "evalue": "invalid syntax (4000197759.py, line 4)",
     "output_type": "error",
     "traceback": [
      "\u001b[0;36m  Cell \u001b[0;32mIn[63], line 4\u001b[0;36m\u001b[0m\n\u001b[0;31m    pd.DataSeries()\u001b[0m\n\u001b[0m    ^\u001b[0m\n\u001b[0;31mSyntaxError\u001b[0m\u001b[0;31m:\u001b[0m invalid syntax\n"
     ]
    }
   ],
   "source": [
    "# work on this next\n",
    "for ts in range(len(tsNames)):      \n",
    "    mask = df['map: ' + str(filename) \n",
    "    pd.DataSeries()\n"
   ]
  },
  {
   "cell_type": "markdown",
   "metadata": {},
   "source": [
    "Now, we want to turn this into a set of four pandas DataFrames, and then put those into an xarray. "
   ]
  },
  {
   "cell_type": "markdown",
   "metadata": {},
   "source": [
    "We can now store the dataframes in a list."
   ]
  },
  {
   "cell_type": "code",
   "execution_count": 65,
   "metadata": {},
   "outputs": [
    {
     "data": {
      "text/html": [
       "<div>\n",
       "<style scoped>\n",
       "    .dataframe tbody tr th:only-of-type {\n",
       "        vertical-align: middle;\n",
       "    }\n",
       "\n",
       "    .dataframe tbody tr th {\n",
       "        vertical-align: top;\n",
       "    }\n",
       "\n",
       "    .dataframe thead th {\n",
       "        text-align: right;\n",
       "    }\n",
       "</style>\n",
       "<table border=\"1\" class=\"dataframe\">\n",
       "  <thead>\n",
       "    <tr style=\"text-align: right;\">\n",
       "      <th></th>\n",
       "      <th>thin_section</th>\n",
       "      <th>Almap</th>\n",
       "      <th>Camap</th>\n",
       "      <th>Cemap</th>\n",
       "      <th>Femap</th>\n",
       "      <th>K map</th>\n",
       "      <th>Mgmap</th>\n",
       "      <th>Timap</th>\n",
       "      <th>Y map</th>\n",
       "      <th>Zrmap</th>\n",
       "      <th>llmap</th>\n",
       "      <th>Garnetmask</th>\n",
       "      <th>Ksparmask</th>\n",
       "    </tr>\n",
       "  </thead>\n",
       "  <tbody>\n",
       "    <tr>\n",
       "      <th>0</th>\n",
       "      <td>78.7-10-1_Hot</td>\n",
       "      <td>[[81.0, 90.0, 72.0, 109.0, 103.0, 94.0, 93.0, ...</td>\n",
       "      <td>[[48.0, 47.0, 49.0, 46.0, 33.0, 47.0, 44.0, 33...</td>\n",
       "      <td>[[5.0, 4.0, 7.0, 3.0, 3.0, 0.0, 3.0, 1.0, 2.0,...</td>\n",
       "      <td>[[20.0, 20.0, 21.0, 19.0, 16.0, 10.0, 11.0, 19...</td>\n",
       "      <td>[[43.0, 47.0, 40.0, 55.0, 39.0, 45.0, 41.0, 46...</td>\n",
       "      <td>[[4.0, 1.0, 1.0, 9.0, 5.0, 6.0, 6.0, 5.0, 6.0,...</td>\n",
       "      <td>[[3.0, 3.0, 4.0, 3.0, 5.0, 3.0, 4.0, 2.0, 2.0,...</td>\n",
       "      <td>[[19.0, 13.0, 11.0, 20.0, 13.0, 21.0, 21.0, 19...</td>\n",
       "      <td>[[0.0, 0.0, 0.0, 0.0, 1.0, 0.0, 1.0, 0.0, 0.0,...</td>\n",
       "      <td>[[93.0, 90.0, 97.0, 83.0, 82.0, 86.0, 79.0, 77...</td>\n",
       "      <td>[[0, 0, 0, 0, 0, 0, 0, 0, 0, 0, 0, 0, 0, 0, 0,...</td>\n",
       "      <td>[[1, 1, 1, 1, 1, 1, 1, 1, 1, 1, 1, 1, 1, 1, 1,...</td>\n",
       "    </tr>\n",
       "  </tbody>\n",
       "</table>\n",
       "</div>"
      ],
      "text/plain": [
       "    thin_section                                              Almap  \\\n",
       "0  78.7-10-1_Hot  [[81.0, 90.0, 72.0, 109.0, 103.0, 94.0, 93.0, ...   \n",
       "\n",
       "                                               Camap  \\\n",
       "0  [[48.0, 47.0, 49.0, 46.0, 33.0, 47.0, 44.0, 33...   \n",
       "\n",
       "                                               Cemap  \\\n",
       "0  [[5.0, 4.0, 7.0, 3.0, 3.0, 0.0, 3.0, 1.0, 2.0,...   \n",
       "\n",
       "                                               Femap  \\\n",
       "0  [[20.0, 20.0, 21.0, 19.0, 16.0, 10.0, 11.0, 19...   \n",
       "\n",
       "                                               K map  \\\n",
       "0  [[43.0, 47.0, 40.0, 55.0, 39.0, 45.0, 41.0, 46...   \n",
       "\n",
       "                                               Mgmap  \\\n",
       "0  [[4.0, 1.0, 1.0, 9.0, 5.0, 6.0, 6.0, 5.0, 6.0,...   \n",
       "\n",
       "                                               Timap  \\\n",
       "0  [[3.0, 3.0, 4.0, 3.0, 5.0, 3.0, 4.0, 2.0, 2.0,...   \n",
       "\n",
       "                                               Y map  \\\n",
       "0  [[19.0, 13.0, 11.0, 20.0, 13.0, 21.0, 21.0, 19...   \n",
       "\n",
       "                                               Zrmap  \\\n",
       "0  [[0.0, 0.0, 0.0, 0.0, 1.0, 0.0, 1.0, 0.0, 0.0,...   \n",
       "\n",
       "                                               llmap  \\\n",
       "0  [[93.0, 90.0, 97.0, 83.0, 82.0, 86.0, 79.0, 77...   \n",
       "\n",
       "                                          Garnetmask  \\\n",
       "0  [[0, 0, 0, 0, 0, 0, 0, 0, 0, 0, 0, 0, 0, 0, 0,...   \n",
       "\n",
       "                                           Ksparmask  \n",
       "0  [[1, 1, 1, 1, 1, 1, 1, 1, 1, 1, 1, 1, 1, 1, 1,...  "
      ]
     },
     "execution_count": 65,
     "metadata": {},
     "output_type": "execute_result"
    }
   ],
   "source": [
    "dfs = []\n",
    "\n",
    "for ts in range(len(thinSectionStacks)):\n",
    "    thin_section_data = [thinSectionStacks[ts]]\n",
    "    df = pd.DataFrame(thin_section_data)\n",
    "    dfs.append(df)\n",
    "dfs[0].head()"
   ]
  },
  {
   "cell_type": "markdown",
   "metadata": {},
   "source": [
    "Now we have the basic structure for our data, but it still needs some metadata and a good bit of cleanup. "
   ]
  },
  {
   "cell_type": "markdown",
   "metadata": {},
   "source": [
    "Pixel coordinates"
   ]
  },
  {
   "cell_type": "code",
   "execution_count": 77,
   "metadata": {},
   "outputs": [
    {
     "data": {
      "text/plain": [
       "(695, 1152)"
      ]
     },
     "execution_count": 77,
     "metadata": {},
     "output_type": "execute_result"
    }
   ],
   "source": [
    "df = dfs[0]\n",
    "df.head()\n",
    "df.iloc[:, 1][0].shape"
   ]
  },
  {
   "cell_type": "code",
   "execution_count": 80,
   "metadata": {},
   "outputs": [
    {
     "ename": "KeyError",
     "evalue": "0",
     "output_type": "error",
     "traceback": [
      "\u001b[0;31m---------------------------------------------------------------------------\u001b[0m",
      "\u001b[0;31mKeyError\u001b[0m                                  Traceback (most recent call last)",
      "File \u001b[0;32m~/anaconda3/envs/mlgeo/lib/python3.9/site-packages/pandas/core/indexes/base.py:3790\u001b[0m, in \u001b[0;36mIndex.get_loc\u001b[0;34m(self, key)\u001b[0m\n\u001b[1;32m   3789\u001b[0m \u001b[39mtry\u001b[39;00m:\n\u001b[0;32m-> 3790\u001b[0m     \u001b[39mreturn\u001b[39;00m \u001b[39mself\u001b[39;49m\u001b[39m.\u001b[39;49m_engine\u001b[39m.\u001b[39;49mget_loc(casted_key)\n\u001b[1;32m   3791\u001b[0m \u001b[39mexcept\u001b[39;00m \u001b[39mKeyError\u001b[39;00m \u001b[39mas\u001b[39;00m err:\n",
      "File \u001b[0;32mindex.pyx:152\u001b[0m, in \u001b[0;36mpandas._libs.index.IndexEngine.get_loc\u001b[0;34m()\u001b[0m\n",
      "File \u001b[0;32mindex.pyx:181\u001b[0m, in \u001b[0;36mpandas._libs.index.IndexEngine.get_loc\u001b[0;34m()\u001b[0m\n",
      "File \u001b[0;32mpandas/_libs/hashtable_class_helper.pxi:7080\u001b[0m, in \u001b[0;36mpandas._libs.hashtable.PyObjectHashTable.get_item\u001b[0;34m()\u001b[0m\n",
      "File \u001b[0;32mpandas/_libs/hashtable_class_helper.pxi:7088\u001b[0m, in \u001b[0;36mpandas._libs.hashtable.PyObjectHashTable.get_item\u001b[0;34m()\u001b[0m\n",
      "\u001b[0;31mKeyError\u001b[0m: 0",
      "\nThe above exception was the direct cause of the following exception:\n",
      "\u001b[0;31mKeyError\u001b[0m                                  Traceback (most recent call last)",
      "\u001b[1;32m/Users/jonathanlindenmann/jonspace/000_aut_23/ESS469/Git/ML-Geo-Pixel-Poppers/ESS469_Project_ML.ipynb Cell 20\u001b[0m line \u001b[0;36m3\n\u001b[1;32m      <a href='vscode-notebook-cell:/Users/jonathanlindenmann/jonspace/000_aut_23/ESS469/Git/ML-Geo-Pixel-Poppers/ESS469_Project_ML.ipynb#X10sZmlsZQ%3D%3D?line=0'>1</a>\u001b[0m \u001b[39m# Get the shape of the stack where z is the stacking dimension\u001b[39;00m\n\u001b[1;32m      <a href='vscode-notebook-cell:/Users/jonathanlindenmann/jonspace/000_aut_23/ESS469/Git/ML-Geo-Pixel-Poppers/ESS469_Project_ML.ipynb#X10sZmlsZQ%3D%3D?line=1'>2</a>\u001b[0m \u001b[39mfor\u001b[39;00m df \u001b[39min\u001b[39;00m dfs:\n\u001b[0;32m----> <a href='vscode-notebook-cell:/Users/jonathanlindenmann/jonspace/000_aut_23/ESS469/Git/ML-Geo-Pixel-Poppers/ESS469_Project_ML.ipynb#X10sZmlsZQ%3D%3D?line=2'>3</a>\u001b[0m     x,y,z \u001b[39m=\u001b[39m df\u001b[39m.\u001b[39;49miloc[:, \u001b[39m1\u001b[39;49m:][\u001b[39m0\u001b[39;49m]\u001b[39m.\u001b[39mshape\n\u001b[1;32m      <a href='vscode-notebook-cell:/Users/jonathanlindenmann/jonspace/000_aut_23/ESS469/Git/ML-Geo-Pixel-Poppers/ESS469_Project_ML.ipynb#X10sZmlsZQ%3D%3D?line=3'>4</a>\u001b[0m     \u001b[39m# create a coordinate grid of the same size\u001b[39;00m\n\u001b[1;32m      <a href='vscode-notebook-cell:/Users/jonathanlindenmann/jonspace/000_aut_23/ESS469/Git/ML-Geo-Pixel-Poppers/ESS469_Project_ML.ipynb#X10sZmlsZQ%3D%3D?line=4'>5</a>\u001b[0m     coordinates \u001b[39m=\u001b[39m np\u001b[39m.\u001b[39mindices((x,y,z))\n",
      "File \u001b[0;32m~/anaconda3/envs/mlgeo/lib/python3.9/site-packages/pandas/core/frame.py:3893\u001b[0m, in \u001b[0;36mDataFrame.__getitem__\u001b[0;34m(self, key)\u001b[0m\n\u001b[1;32m   3891\u001b[0m \u001b[39mif\u001b[39;00m \u001b[39mself\u001b[39m\u001b[39m.\u001b[39mcolumns\u001b[39m.\u001b[39mnlevels \u001b[39m>\u001b[39m \u001b[39m1\u001b[39m:\n\u001b[1;32m   3892\u001b[0m     \u001b[39mreturn\u001b[39;00m \u001b[39mself\u001b[39m\u001b[39m.\u001b[39m_getitem_multilevel(key)\n\u001b[0;32m-> 3893\u001b[0m indexer \u001b[39m=\u001b[39m \u001b[39mself\u001b[39;49m\u001b[39m.\u001b[39;49mcolumns\u001b[39m.\u001b[39;49mget_loc(key)\n\u001b[1;32m   3894\u001b[0m \u001b[39mif\u001b[39;00m is_integer(indexer):\n\u001b[1;32m   3895\u001b[0m     indexer \u001b[39m=\u001b[39m [indexer]\n",
      "File \u001b[0;32m~/anaconda3/envs/mlgeo/lib/python3.9/site-packages/pandas/core/indexes/base.py:3797\u001b[0m, in \u001b[0;36mIndex.get_loc\u001b[0;34m(self, key)\u001b[0m\n\u001b[1;32m   3792\u001b[0m     \u001b[39mif\u001b[39;00m \u001b[39misinstance\u001b[39m(casted_key, \u001b[39mslice\u001b[39m) \u001b[39mor\u001b[39;00m (\n\u001b[1;32m   3793\u001b[0m         \u001b[39misinstance\u001b[39m(casted_key, abc\u001b[39m.\u001b[39mIterable)\n\u001b[1;32m   3794\u001b[0m         \u001b[39mand\u001b[39;00m \u001b[39many\u001b[39m(\u001b[39misinstance\u001b[39m(x, \u001b[39mslice\u001b[39m) \u001b[39mfor\u001b[39;00m x \u001b[39min\u001b[39;00m casted_key)\n\u001b[1;32m   3795\u001b[0m     ):\n\u001b[1;32m   3796\u001b[0m         \u001b[39mraise\u001b[39;00m InvalidIndexError(key)\n\u001b[0;32m-> 3797\u001b[0m     \u001b[39mraise\u001b[39;00m \u001b[39mKeyError\u001b[39;00m(key) \u001b[39mfrom\u001b[39;00m \u001b[39merr\u001b[39;00m\n\u001b[1;32m   3798\u001b[0m \u001b[39mexcept\u001b[39;00m \u001b[39mTypeError\u001b[39;00m:\n\u001b[1;32m   3799\u001b[0m     \u001b[39m# If we have a listlike key, _check_indexing_error will raise\u001b[39;00m\n\u001b[1;32m   3800\u001b[0m     \u001b[39m#  InvalidIndexError. Otherwise we fall through and re-raise\u001b[39;00m\n\u001b[1;32m   3801\u001b[0m     \u001b[39m#  the TypeError.\u001b[39;00m\n\u001b[1;32m   3802\u001b[0m     \u001b[39mself\u001b[39m\u001b[39m.\u001b[39m_check_indexing_error(key)\n",
      "\u001b[0;31mKeyError\u001b[0m: 0"
     ]
    }
   ],
   "source": [
    "# Get the shape of the stack where z is the stacking dimension\n",
    "for df in dfs:\n",
    "    x,y,z = df.iloc[:, 1:][0].shape\n",
    "    # create a coordinate grid of the same size\n",
    "    coordinates = np.indices((x,y,z))\n",
    "    print(coordinates)\n",
    "    # reshape coordinates to have a list of (x, y, z) tuples\n",
    "pixel_coordinates = np.column_stack([coordinates[0].ravel(), coordinates[1].ravel(), coordinates[2].ravel()])\n",
    "\n",
    "# Display the first few rows of the coordinates\n",
    "print(pixel_coordinates[:10])"
   ]
  },
  {
   "cell_type": "code",
   "execution_count": 4,
   "metadata": {},
   "outputs": [],
   "source": [
    "# PCA\n",
    "\n",
    "# Import useful modules\n",
    "import requests, zipfile, io, gzip, glob, os\n",
    "import matplotlib.pyplot as plt\n",
    "import numpy as np\n",
    "import numpy.linalg as ln\n",
    "import pandas as pd\n",
    "import matplotlib\n",
    "from matplotlib import cm\n",
    "%matplotlib inline\n",
    "from sklearn.decomposition import PCA\n",
    "from sklearn import datasets\n",
    "import sklearn\n",
    "\n"
   ]
  },
  {
   "cell_type": "code",
   "execution_count": 4,
   "metadata": {},
   "outputs": [],
   "source": [
    "# Feature selection via parameter exploration\n",
    "\n",
    "# Heatmap functions\n",
    "def heatmap(data, row_labels, col_labels, ax=None,\n",
    "            cbar_kw=None, cbarlabel=\"\", **kwargs):\n",
    "    \"\"\"\n",
    "    Create a heatmap from a numpy array and two lists of labels.\n",
    "\n",
    "    Parameters\n",
    "    ----------\n",
    "    data\n",
    "        A 2D numpy array of shape (M, N).\n",
    "    row_labels\n",
    "        A list or array of length M with the labels for the rows.\n",
    "    col_labels\n",
    "        A list or array of length N with the labels for the columns.\n",
    "    ax\n",
    "        A `matplotlib.axes.Axes` instance to which the heatmap is plotted.  If\n",
    "        not provided, use current axes or create a new one.  Optional.\n",
    "    cbar_kw\n",
    "        A dictionary with arguments to `matplotlib.Figure.colorbar`.  Optional.\n",
    "    cbarlabel\n",
    "        The label for the colorbar.  Optional.\n",
    "    **kwargs\n",
    "        All other arguments are forwarded to `imshow`.\n",
    "    \"\"\"\n",
    "\n",
    "    if ax is None:\n",
    "        ax = plt.gca()\n",
    "\n",
    "    if cbar_kw is None:\n",
    "        cbar_kw = {}\n",
    "\n",
    "    # Plot the heatmap\n",
    "    im = ax.imshow(data, **kwargs)\n",
    "\n",
    "    # Create colorbar\n",
    "    cbar = ax.figure.colorbar(im, ax=ax, **cbar_kw)\n",
    "    cbar.ax.set_ylabel(cbarlabel, rotation=-90, va=\"bottom\")\n",
    "\n",
    "    # Show all ticks and label them with the respective list entries.\n",
    "    ax.set_xticks(np.arange(data.shape[1]), labels=col_labels)\n",
    "    ax.set_yticks(np.arange(data.shape[0]), labels=row_labels)\n",
    "\n",
    "    # Let the horizontal axes labeling appear on top.\n",
    "    ax.tick_params(top=True, bottom=False,\n",
    "                   labeltop=True, labelbottom=False)\n",
    "\n",
    "    # Rotate the tick labels and set their alignment.\n",
    "    plt.setp(ax.get_xticklabels(), rotation=-30, ha=\"right\",\n",
    "             rotation_mode=\"anchor\")\n",
    "\n",
    "    # Turn spines off and create white grid.\n",
    "    ax.spines[:].set_visible(False)\n",
    "\n",
    "    ax.set_xticks(np.arange(data.shape[1]+1)-.5, minor=True)\n",
    "    ax.set_yticks(np.arange(data.shape[0]+1)-.5, minor=True)\n",
    "    ax.grid(which=\"minor\", color=\"w\", linestyle='-', linewidth=3)\n",
    "    ax.tick_params(which=\"minor\", bottom=False, left=False)\n",
    "\n",
    "    return im, cbar\n",
    "\n",
    "def annotate_heatmap(im, data=None, valfmt=\"{x:.2f}\",\n",
    "                     textcolors=(\"black\", \"white\"),\n",
    "                     threshold=None, **textkw):\n",
    "    \"\"\"\n",
    "    A function to annotate a heatmap.\n",
    "\n",
    "    Parameters\n",
    "    ----------\n",
    "    im\n",
    "        The AxesImage to be labeled.\n",
    "    data\n",
    "        Data used to annotate.  If None, the image's data is used.  Optional.\n",
    "    valfmt\n",
    "        The format of the annotations inside the heatmap.  This should either\n",
    "        use the string format method, e.g. \"$ {x:.2f}\", or be a\n",
    "        `matplotlib.ticker.Formatter`.  Optional.\n",
    "    textcolors\n",
    "        A pair of colors.  The first is used for values below a threshold,\n",
    "        the second for those above.  Optional.\n",
    "    threshold\n",
    "        Value in data units according to which the colors from textcolors are\n",
    "        applied.  If None (the default) uses the middle of the colormap as\n",
    "        separation.  Optional.\n",
    "    **kwargs\n",
    "        All other arguments are forwarded to each call to `text` used to create\n",
    "        the text labels.\n",
    "    \"\"\"\n",
    "\n",
    "    if not isinstance(data, (list, np.ndarray)):\n",
    "        data = im.get_array()\n",
    "\n",
    "    # Normalize the threshold to the images color range.\n",
    "    if threshold is not None:\n",
    "        threshold = im.norm(threshold)\n",
    "    else:\n",
    "        threshold = im.norm(data.max())/2.\n",
    "\n",
    "    # Set default alignment to center, but allow it to be\n",
    "    # overwritten by textkw.\n",
    "    kw = dict(horizontalalignment=\"center\",\n",
    "              verticalalignment=\"center\")\n",
    "    kw.update(textkw)\n",
    "\n",
    "    # Get the formatter in case a string is supplied\n",
    "    if isinstance(valfmt, str):\n",
    "        valfmt = matplotlib.ticker.StrMethodFormatter(valfmt)\n",
    "\n",
    "    # Loop over the data and create a `Text` for each \"pixel\".\n",
    "    # Change the text's color depending on the data.\n",
    "    texts = []\n",
    "    for i in range(data.shape[0]):\n",
    "        for j in range(data.shape[1]):\n",
    "            kw.update(color=textcolors[int(im.norm(data[i, j]) > threshold)])\n",
    "            text = im.axes.text(j, i, valfmt(data[i, j], None), **kw)\n",
    "            texts.append(text)\n",
    "\n",
    "    return texts"
   ]
  },
  {
   "cell_type": "code",
   "execution_count": 19,
   "metadata": {},
   "outputs": [
    {
     "data": {
      "text/plain": [
       "'.. _iris_dataset:\\n\\nIris plants dataset\\n--------------------\\n\\n**Data Set Characteristics:**\\n\\n    :Number of Instances: 150 (50 in each of three classes)\\n    :Number of Attributes: 4 numeric, predictive attributes and the class\\n    :Attribute Information:\\n        - sepal length in cm\\n        - sepal width in cm\\n        - petal length in cm\\n        - petal width in cm\\n        - class:\\n                - Iris-Setosa\\n                - Iris-Versicolour\\n                - Iris-Virginica\\n                \\n    :Summary Statistics:\\n\\n    ============== ==== ==== ======= ===== ====================\\n                    Min  Max   Mean    SD   Class Correlation\\n    ============== ==== ==== ======= ===== ====================\\n    sepal length:   4.3  7.9   5.84   0.83    0.7826\\n    sepal width:    2.0  4.4   3.05   0.43   -0.4194\\n    petal length:   1.0  6.9   3.76   1.76    0.9490  (high!)\\n    petal width:    0.1  2.5   1.20   0.76    0.9565  (high!)\\n    ============== ==== ==== ======= ===== ====================\\n\\n    :Missing Attribute Values: None\\n    :Class Distribution: 33.3% for each of 3 classes.\\n    :Creator: R.A. Fisher\\n    :Donor: Michael Marshall (MARSHALL%PLU@io.arc.nasa.gov)\\n    :Date: July, 1988\\n\\nThe famous Iris database, first used by Sir R.A. Fisher. The dataset is taken\\nfrom Fisher\\'s paper. Note that it\\'s the same as in R, but not as in the UCI\\nMachine Learning Repository, which has two wrong data points.\\n\\nThis is perhaps the best known database to be found in the\\npattern recognition literature.  Fisher\\'s paper is a classic in the field and\\nis referenced frequently to this day.  (See Duda & Hart, for example.)  The\\ndata set contains 3 classes of 50 instances each, where each class refers to a\\ntype of iris plant.  One class is linearly separable from the other 2; the\\nlatter are NOT linearly separable from each other.\\n\\n.. topic:: References\\n\\n   - Fisher, R.A. \"The use of multiple measurements in taxonomic problems\"\\n     Annual Eugenics, 7, Part II, 179-188 (1936); also in \"Contributions to\\n     Mathematical Statistics\" (John Wiley, NY, 1950).\\n   - Duda, R.O., & Hart, P.E. (1973) Pattern Classification and Scene Analysis.\\n     (Q327.D83) John Wiley & Sons.  ISBN 0-471-22361-1.  See page 218.\\n   - Dasarathy, B.V. (1980) \"Nosing Around the Neighborhood: A New System\\n     Structure and Classification Rule for Recognition in Partially Exposed\\n     Environments\".  IEEE Transactions on Pattern Analysis and Machine\\n     Intelligence, Vol. PAMI-2, No. 1, 67-71.\\n   - Gates, G.W. (1972) \"The Reduced Nearest Neighbor Rule\".  IEEE Transactions\\n     on Information Theory, May 1972, 431-433.\\n   - See also: 1988 MLC Proceedings, 54-64.  Cheeseman et al\"s AUTOCLASS II\\n     conceptual clustering system finds 3 classes in the data.\\n   - Many, many more ...'"
      ]
     },
     "execution_count": 19,
     "metadata": {},
     "output_type": "execute_result"
    },
    {
     "data": {
      "image/png": "[encoded data removed]",
      "text/plain": [
       "<Figure size 640x480 with 1 Axes>"
      ]
     },
     "metadata": {},
     "output_type": "display_data"
    }
   ],
   "source": [
    "# Let's load in the iris dataset\n",
    "iris = datasets.load_iris()\n",
    "\n",
    "# Convert iris to a pandas dataframe...\n",
    "irisDF = pd.DataFrame(data=iris.data,  \n",
    "                  columns=iris.feature_names)\n",
    "\n",
    "# Now, plot up sepal length vs width, color-coded by target (or species)\n",
    "\n",
    "scatter = plt.scatter(irisDF['sepal length (cm)'], irisDF['sepal width (cm)'], c=iris.target)\n",
    "plt.xlabel('sepal length (cm)')\n",
    "plt.ylabel('sepal width (cm)')\n",
    "plt.legend(scatter.legend_elements()[0], iris.target_names, title=\"Classes\")\n"
   ]
  },
  {
   "cell_type": "code",
   "execution_count": 24,
   "metadata": {},
   "outputs": [
    {
     "data": {
      "image/png": "[encoded data removed]",
      "text/plain": [
       "<Figure size 640x480 with 2 Axes>"
      ]
     },
     "metadata": {},
     "output_type": "display_data"
    }
   ],
   "source": [
    "# Now, how might we reduce these dimensions? \n",
    "# One way is by looking at how variables are correlated\n",
    "# Calculate the correlation coefficients for all variables\n",
    "allCorr = irisDF.corr()\n",
    "\n",
    "im, _ = heatmap(allCorr, irisDF, irisDF,\n",
    "                cmap=\"PuOr\", vmin=-1, vmax=1,\n",
    "                cbarlabel=\"correlation coeff.\")\n",
    "\n",
    "annotate_heatmap(im, size=7)\n",
    "\n",
    "plt.tight_layout()\n",
    "plt.show()\n"
   ]
  },
  {
   "cell_type": "code",
   "execution_count": 21,
   "metadata": {},
   "outputs": [
    {
     "data": {
      "text/html": [
       "<div>\n",
       "<style scoped>\n",
       "    .dataframe tbody tr th:only-of-type {\n",
       "        vertical-align: middle;\n",
       "    }\n",
       "\n",
       "    .dataframe tbody tr th {\n",
       "        vertical-align: top;\n",
       "    }\n",
       "\n",
       "    .dataframe thead th {\n",
       "        text-align: right;\n",
       "    }\n",
       "</style>\n",
       "<table border=\"1\" class=\"dataframe\">\n",
       "  <thead>\n",
       "    <tr style=\"text-align: right;\">\n",
       "      <th></th>\n",
       "      <th>sepal length (cm)</th>\n",
       "      <th>sepal width (cm)</th>\n",
       "      <th>petal length (cm)</th>\n",
       "      <th>petal width (cm)</th>\n",
       "    </tr>\n",
       "  </thead>\n",
       "  <tbody>\n",
       "    <tr>\n",
       "      <th>sepal length (cm)</th>\n",
       "      <td>1.000000</td>\n",
       "      <td>-0.117570</td>\n",
       "      <td>0.871754</td>\n",
       "      <td>0.817941</td>\n",
       "    </tr>\n",
       "    <tr>\n",
       "      <th>sepal width (cm)</th>\n",
       "      <td>-0.117570</td>\n",
       "      <td>1.000000</td>\n",
       "      <td>-0.428440</td>\n",
       "      <td>-0.366126</td>\n",
       "    </tr>\n",
       "    <tr>\n",
       "      <th>petal length (cm)</th>\n",
       "      <td>0.871754</td>\n",
       "      <td>-0.428440</td>\n",
       "      <td>1.000000</td>\n",
       "      <td>0.962865</td>\n",
       "    </tr>\n",
       "    <tr>\n",
       "      <th>petal width (cm)</th>\n",
       "      <td>0.817941</td>\n",
       "      <td>-0.366126</td>\n",
       "      <td>0.962865</td>\n",
       "      <td>1.000000</td>\n",
       "    </tr>\n",
       "  </tbody>\n",
       "</table>\n",
       "</div>"
      ],
      "text/plain": [
       "                   sepal length (cm)  sepal width (cm)  petal length (cm)  \\\n",
       "sepal length (cm)           1.000000         -0.117570           0.871754   \n",
       "sepal width (cm)           -0.117570          1.000000          -0.428440   \n",
       "petal length (cm)           0.871754         -0.428440           1.000000   \n",
       "petal width (cm)            0.817941         -0.366126           0.962865   \n",
       "\n",
       "                   petal width (cm)  \n",
       "sepal length (cm)          0.817941  \n",
       "sepal width (cm)          -0.366126  \n",
       "petal length (cm)          0.962865  \n",
       "petal width (cm)           1.000000  "
      ]
     },
     "execution_count": 21,
     "metadata": {},
     "output_type": "execute_result"
    }
   ],
   "source": [
    "allCorr"
   ]
  },
  {
   "cell_type": "markdown",
   "metadata": {},
   "source": [
    "Aiman's random forest code"
   ]
  },
  {
   "cell_type": "code",
   "execution_count": 103,
   "metadata": {},
   "outputs": [
    {
     "ename": "ModuleNotFoundError",
     "evalue": "No module named 'skimage'",
     "output_type": "error",
     "traceback": [
      "\u001b[0;31m---------------------------------------------------------------------------\u001b[0m",
      "\u001b[0;31mModuleNotFoundError\u001b[0m                       Traceback (most recent call last)",
      "\u001b[1;32m/Users/jonathanlindenmann/jonspace/000_aut_23/ESS469/Git/ML-Geo-Pixel-Poppers/ESS469_Project_ML.ipynb Cell 25\u001b[0m line \u001b[0;36m2\n\u001b[1;32m      <a href='vscode-notebook-cell:/Users/jonathanlindenmann/jonspace/000_aut_23/ESS469/Git/ML-Geo-Pixel-Poppers/ESS469_Project_ML.ipynb#X41sZmlsZQ%3D%3D?line=0'>1</a>\u001b[0m \u001b[39mfrom\u001b[39;00m \u001b[39mPIL\u001b[39;00m \u001b[39mimport\u001b[39;00m Image\n\u001b[0;32m----> <a href='vscode-notebook-cell:/Users/jonathanlindenmann/jonspace/000_aut_23/ESS469/Git/ML-Geo-Pixel-Poppers/ESS469_Project_ML.ipynb#X41sZmlsZQ%3D%3D?line=1'>2</a>\u001b[0m \u001b[39mfrom\u001b[39;00m \u001b[39mskimage\u001b[39;00m \u001b[39mimport\u001b[39;00m io, color, filters\n\u001b[1;32m      <a href='vscode-notebook-cell:/Users/jonathanlindenmann/jonspace/000_aut_23/ESS469/Git/ML-Geo-Pixel-Poppers/ESS469_Project_ML.ipynb#X41sZmlsZQ%3D%3D?line=2'>3</a>\u001b[0m \u001b[39mimport\u001b[39;00m \u001b[39mmatplotlib\u001b[39;00m\u001b[39m.\u001b[39;00m\u001b[39mpyplot\u001b[39;00m \u001b[39mas\u001b[39;00m \u001b[39mplt\u001b[39;00m\n\u001b[1;32m      <a href='vscode-notebook-cell:/Users/jonathanlindenmann/jonspace/000_aut_23/ESS469/Git/ML-Geo-Pixel-Poppers/ESS469_Project_ML.ipynb#X41sZmlsZQ%3D%3D?line=4'>5</a>\u001b[0m \u001b[39m# Load the grayscale image\u001b[39;00m\n",
      "\u001b[0;31mModuleNotFoundError\u001b[0m: No module named 'skimage'"
     ]
    }
   ],
   "source": [
    "from PIL import Image\n",
    "from skimage import io, color, filters\n",
    "import matplotlib.pyplot as plt\n",
    "\n",
    "# Load the grayscale image\n",
    "grayscale_image_path = './Aikin_Data/78.7-10-1_Hot/masks/78.7-10-1_Hot_FeTiZr_garnet_mask.tif'\n",
    "grayscale_image = Image.open(grayscale_image_path)\n",
    "\n",
    "# Convert the image to a valid data type (float or uint8)\n",
    "single_mapArray = np.asarray(single_tsMap)\n",
    "# Apply thresholding\n",
    "threshold_value = filters.threshold_otsu(grayscale_image)\n",
    "binary_image = (grayscale_image > threshold_value).astype(np.uint8)\n",
    "\n",
    "# Display the original and binary images\n",
    "fig, axes = plt.subplots(1, 2, figsize=(8, 4))\n",
    "\n",
    "axes[0].imshow(grayscale_image, cmap='gray')\n",
    "axes[0].set_title('Original Grayscale Image')\n",
    "\n",
    "axes[1].imshow(binary_image, cmap='binary')\n",
    "axes[1].set_title('Binary Image')\n",
    "\n",
    "plt.show()"
   ]
  },
  {
   "cell_type": "markdown",
   "metadata": {},
   "source": []
  }
 ],
 "metadata": {
  "kernelspec": {
   "display_name": "base",
   "language": "python",
   "name": "python3"
  },
  "language_info": {
   "codemirror_mode": {
    "name": "ipython",
    "version": 3
   },
   "file_extension": ".py",
   "mimetype": "text/x-python",
   "name": "python",
   "nbconvert_exporter": "python",
   "pygments_lexer": "ipython3",
   "version": "3.9.18"
  }
 },
 "nbformat": 4,
 "nbformat_minor": 2
}
