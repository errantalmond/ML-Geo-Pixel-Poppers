{
 "cells": [
  {
   "cell_type": "markdown",
   "metadata": {},
   "source": [
    "# ML-GEO23 Pixel Poppers:\n"
   ]
  },
  {
   "cell_type": "markdown",
   "metadata": {},
   "source": [
    "Filenaming and github org\n",
    "Naming convention is as follows: ML-Geo-Pixel-Poppers/Aikin_Data/ThinSectionName/RAW/elementalMap.tiff\n",
    "Where “ML-Geo-Pixel-Poppers” is the github repository and “Aikin_Data” is where all data is stored, and where ‘ThinSectionName’ and ‘elementalMap’ are replaced by the appropriate names for each respective thin section chemical map.\n",
    "\n",
    "This directory can be found on our Github linked at the top of this report.\n",
    "\n",
    "“Aikin_Data” [parent folder containing all data] >\n",
    "“RiverMile-Sample#-ThinSection#\\_BlockID” [e.g. “78.7-10-1_Hot”; four folders, separated into thin section/samples] >\n",
    "“RAW” [folder containing full thin section electron microprobe xray chemical maps for single elements saved as .tiff files] >\n",
    "“IDString_Element_OtherInfo.tiff”[e.g. “CC-84.7-R21-NA2-1_full_Al Ka_Al Ka EDS”, 9 to 10 files per thin section.]\n"
   ]
  },
  {
   "cell_type": "markdown",
   "metadata": {},
   "source": [
    "#### Packages\n"
   ]
  },
  {
   "cell_type": "code",
   "execution_count": 2,
   "metadata": {},
   "outputs": [],
   "source": [
    "import numpy as np\n",
    "import matplotlib.pyplot as plt\n",
    "from matplotlib.colors import ListedColormap\n",
    "import matplotlib.ticker\n",
    "import os\n",
    "import tables as tt\n",
    "# for navigation\n",
    "import pandas as pd\n",
    "\n",
    "# for file creation\n",
    "import h5py\n",
    "# open .tifs\n",
    "from PIL import Image\n",
    "from tifffile import imread\n",
    "\n",
    "%matplotlib inline"
   ]
  },
  {
   "cell_type": "markdown",
   "metadata": {},
   "source": []
  },
  {
   "cell_type": "code",
   "execution_count": null,
   "metadata": {},
   "outputs": [],
   "source": []
  },
  {
   "cell_type": "markdown",
   "metadata": {},
   "source": [
    "# Data preprocessing\n"
   ]
  },
  {
   "cell_type": "markdown",
   "metadata": {},
   "source": [
    "In [this notebook](./MLGEO_PP_data_preprocessing.ipynb), we:\n",
    "\n",
    "1. Access RAW and masks data\n",
    "2. Create a datastructure in HDF5 file format\n",
    "3. Create labelled datasets.\n",
    "4. Store all datasets in a hierarchical data file (HDF5).\n"
   ]
  },
  {
   "cell_type": "markdown",
   "metadata": {},
   "source": [
    "# Data exploration\n"
   ]
  },
  {
   "cell_type": "markdown",
   "metadata": {},
   "source": [
    "In [this notebook](./MLGEO_PP_Data_characterization.ipynb) we:\n",
    "\n",
    "1. Open datasets from the HDF5 database into a dict of `pd.Dataframes`\n",
    "2. Select informative minerals and elements to work with\n",
    "3. Describe the data\n",
    "4. Explore histograms of the data\n",
    "5. Attempt other visualizations\n",
    "\n",
    "For future consideration: extract additional spatial features to characterize the spatial distribution of grains in different thin sections and include spatial recognition in models.\n"
   ]
  },
  {
   "cell_type": "markdown",
   "metadata": {},
   "source": [
    "# Machine learning\n"
   ]
  },
  {
   "cell_type": "markdown",
   "metadata": {},
   "source": [
    "### Model selection\n"
   ]
  },
  {
   "cell_type": "markdown",
   "metadata": {},
   "source": [
    "### Random Forest model\n",
    "\n",
    "see [this notebook](./RandomForestTest.ipynb) created by Aiman S.\n"
   ]
  },
  {
   "cell_type": "markdown",
   "metadata": {},
   "source": [
    "# Next steps\n",
    "\n",
    "6. Use the value ranges of the main 3 primary component elements to generate new masks (by filtering the 2D arrays of those element channels for the required value range), then plug them into our image compiler to create an RGB image of ONLY pixels identified as that element.\n",
    "   =========== =========== =========== =========== =========== =========== ===========\n",
    "\n",
    "_Data characterization_\n",
    "How unbalanced is our dataset? How many of each class are available in our dataset?\n"
   ]
  },
  {
   "cell_type": "markdown",
   "metadata": {},
   "source": []
  }
 ],
 "metadata": {
  "kernelspec": {
   "display_name": "base",
   "language": "python",
   "name": "python3"
  },
  "language_info": {
   "codemirror_mode": {
    "name": "ipython",
    "version": 3
   },
   "file_extension": ".py",
   "mimetype": "text/x-python",
   "name": "python",
   "nbconvert_exporter": "python",
   "pygments_lexer": "ipython3",
   "version": "3.9.18"
  }
 },
 "nbformat": 4,
 "nbformat_minor": 2
}
