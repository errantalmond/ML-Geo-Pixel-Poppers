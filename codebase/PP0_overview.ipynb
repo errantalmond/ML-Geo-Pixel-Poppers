{
 "cells": [
  {
   "cell_type": "markdown",
   "metadata": {},
   "source": [
    "# ML-GEO23 Pixel Poppers:"
   ]
  },
  {
   "cell_type": "markdown",
   "metadata": {},
   "source": [
    "#### Packages"
   ]
  },
  {
   "cell_type": "code",
   "execution_count": 5,
   "metadata": {},
   "outputs": [],
   "source": [
    "import numpy as np\n",
    "import matplotlib.pyplot as plt\n",
    "from matplotlib.colors import ListedColormap\n",
    "import matplotlib.ticker\n",
    "import os\n",
    "import tables as tt\n",
    "# for navigation\n",
    "import pandas as pd\n",
    "\n",
    "# for file creation\n",
    "import h5py\n",
    "# open .tifs\n",
    "from PIL import Image\n",
    "from tifffile import imread\n",
    "\n",
    "%matplotlib inline"
   ]
  },
  {
   "cell_type": "markdown",
   "metadata": {},
   "source": [
    "# Data preprocessing"
   ]
  },
  {
   "cell_type": "markdown",
   "metadata": {},
   "source": [
    "In [this notebook](./MLGEO_PP_data_preprocessing.ipynb), we:\n",
    "\n",
    "1. Access RAW and masks data\n",
    "2. Create a datastructure in HDF5 file format\n",
    "3. Create labelled datasets. \n",
    "4. Store all datasets in a hierarchical data file (HDF5)."
   ]
  },
  {
   "cell_type": "markdown",
   "metadata": {},
   "source": [
    "# Data exploration"
   ]
  },
  {
   "cell_type": "markdown",
   "metadata": {},
   "source": [
    "In [this notebook](./MLGEO_PP_Data_characterization.ipynb) we:\n",
    "\n",
    "1. Open datasets from the HDF5 database into a dict of `pd.Dataframes`\n",
    "2. Select informative minerals and elements to work with\n",
    "3. Describe the data\n",
    "4. Explore histograms of the data\n",
    "5. Attempt other visualizations\n",
    "\n",
    "\n",
    "For future consideration: extract additional spatial features to characterize the spatial distribution of grains in different thin sections and include spatial recognition in models."
   ]
  },
  {
   "cell_type": "markdown",
   "metadata": {},
   "source": [
    "# Machine learning"
   ]
  },
  {
   "cell_type": "markdown",
   "metadata": {},
   "source": [
    "### Model selection"
   ]
  },
  {
   "cell_type": "markdown",
   "metadata": {},
   "source": [
    "### Random Forest model\n",
    "see [this notebook](./RandomForestTest.ipynb) created  by Aiman S."
   ]
  },
  {
   "cell_type": "markdown",
   "metadata": {},
   "source": [
    "# Next steps\n",
    "\n",
    "6. Use the value ranges of the main 3 primary component elements to generate new masks (by filtering the 2D arrays of those element channels for the required value range), then plug them into our image compiler to create an RGB image of ONLY pixels identified as that element. \n",
    " =========== =========== =========== =========== =========== =========== ===========\n",
    "\n",
    "*Data characterization*\n",
    "How unbalanced is our dataset? How many of each class are available in our dataset?"
   ]
  },
  {
   "cell_type": "markdown",
   "metadata": {},
   "source": []
  }
 ],
 "metadata": {
  "kernelspec": {
   "display_name": "base",
   "language": "python",
   "name": "python3"
  },
  "language_info": {
   "codemirror_mode": {
    "name": "ipython",
    "version": 3
   },
   "file_extension": ".py",
   "mimetype": "text/x-python",
   "name": "python",
   "nbconvert_exporter": "python",
   "pygments_lexer": "ipython3",
   "version": "3.9.18"
  }
 },
 "nbformat": 4,
 "nbformat_minor": 2
}
