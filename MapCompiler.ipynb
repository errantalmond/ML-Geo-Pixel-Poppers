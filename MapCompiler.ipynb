{
 "cells": [
  {
   "cell_type": "markdown",
   "metadata": {},
   "source": [
    "# 3-channel image compiler for EPMA elemental maps of petrographic thin sections\n",
    "\n",
    "This notebook contains a script with step-by-step explanations to create a widget that stacks three 8-bit grayscale `.tiff` files into a single 3-channel RGB image and saves it your local drive as a new `.tiff` file. \n",
    "\n",
    "The first three code blocks were provided by Akshay Mehra."
   ]
  },
  {
   "cell_type": "markdown",
   "metadata": {},
   "source": [
    "## Overview\n",
    "\n",
    "\n",
    "### This is going to need to be written after I have worked on this some more.\n",
    "\n",
    "The purpose of this notebook is to composite EPMA elemental map data into 3-channel RGB images. This is part of a workflow for mineral grain classification of petrographic thin sections, developed as a class project for MLGeo 2023 within the scope of Nicole Aikin's PhD thesis. \n",
    "\n",
    "training and testing datasets for a machine learning model that classifies mineral grains based on elemental compositions at each microprobe measurement point, or pixel\n",
    "mineral assemblages based on the primary \n",
    "produce 3-channel RGB composite images for \n",
    "a machine learning \n",
    "\n",
    "#### Steps\n",
    "1. make widget\n",
    "2. create RGB `.tiffs`\n",
    "3. ...\n",
    "4. ..\n",
    "\n",
    "### Data\n",
    "Each thin section has  elemental maps `.tiff` files, each for a different element. \n",
    "Thin section 1 images are 703 x 1100 pixels\n",
    "Thin section 2 images are 575 x 1026 pixels\n",
    "Thin section 3 images are 695 x 1152 pixels\n",
    "Thin section 3 images are 695 x 1152 pixels\n",
    "\n",
    "|Thin section|Index|Dimensions|# of maps|\n",
    "|---|---|---|---|\n",
    "|84.7-NA-2-1_Cold|0|695 x 1152|9|\n",
    "|84.7-NA2-2_Cold|1|695 x 1152|9|\n",
    "|78.7-10-1_Hot|2|703 x 1100|10|\n",
    "|78.7-10-2_Hot|3|575 x 1026|10|\n",
    "\n",
    " "
   ]
  },
  {
   "cell_type": "markdown",
   "metadata": {},
   "source": [
    "#### **Creating the widget**\n",
    "##### 1. Loading the images and storing them as 3D numpy array image stacks for each thin section\n",
    "##### 2. Defining the widget interface and 3-channel compiler and file saving functions. \n"
   ]
  },
  {
   "cell_type": "code",
   "execution_count": 1,
   "metadata": {},
   "outputs": [],
   "source": [
    "# load all packages\n",
    "\n",
    "import numpy as np                      \n",
    "import os                               # to work with filepaths and local directories\n",
    "import matplotlib.pyplot as plt         # to display the output images in the notebook\n",
    "%matplotlib inline\n",
    "\n",
    "# Python image library (PIL) lets you access .tiff files\n",
    "from PIL import Image\n",
    "\n",
    "# to create and add functionality to a widget\n",
    "import ipywidgets as widgets\n",
    "\n",
    "# to display the widget\n",
    "from IPython.display import display\n",
    "\n",
    "# to save arrays to .tiff files\n",
    "import imageio\n",
    "# to check your OS in order to open a file saving prompt\n",
    "import platform\n",
    "import tempfile\n",
    "import shutil\n",
    "from tkinter import Tk, filedialog\n",
    "\n"
   ]
  },
  {
   "cell_type": "markdown",
   "metadata": {},
   "source": []
  },
  {
   "cell_type": "markdown",
   "metadata": {},
   "source": [
    "The first step is to load in `.tiffs` and turn them into 2D arrays. We'll do this with `image.open('filePath')` and `np.asarray(imageName)`. \n",
    "\n",
    "`np.asarray(imageName)` parses the `.tiff` file row by row, so the 2D array that it creates represent the `.tiff` raster visually:\n",
    "\n",
    "This image: <br>\n",
    " `image = ` <br>   \n",
    " `1 2 3` <br>\n",
    " `4 5 6` <br>\n",
    " `7 8 9`  \n",
    "\n",
    "becomes this array:\n",
    "  \n",
    "`image_array =` <br> \n",
    "`[[1, 2, 3]` <br>\n",
    "`[4, 5, 6]` <br>\n",
    "`[7, 8, 9]]`               \n",
    "\n",
    "We're doing this step separately because it allows us to look at the data before we continue working with it:"
   ]
  },
  {
   "cell_type": "code",
   "execution_count": 2,
   "metadata": {},
   "outputs": [],
   "source": [
    "# LOADING THE TIFFS\n",
    "# Load in a single image\n",
    "singleMap = Image.open('/Users/jonathanlindenmann/jonspace/000_aut_23/ESS469/Git/ML-Geo-Pixel-Poppers/Aikin_Data/78.7-10-1_Hot/RAW/UGG-W3-87.7-10.1-Full_Al Ka_Al Ka EDS.Tiff')\n",
    "# Turn this image into an array\n",
    "singleMapArray = np.asarray(singleMap)\n",
    "\n",
    "\n",
    "#print(singleImageArray)"
   ]
  },
  {
   "cell_type": "markdown",
   "metadata": {},
   "source": []
  },
  {
   "cell_type": "markdown",
   "metadata": {},
   "source": [
    "\n",
    "\n",
    "We have four thin sections, and each one has nine or ten `.tiff` files of elemental maps.  These `.tiff` files are stored in `projectRoot/Aikin_Data/thinSectionName/RAW/`. We want to turn all `.tiff`s for a given thin section into 2D arrays and stack them along the third dimension of an `mapStack` array. We can then consolidate all these map stacks in to a `list` object `thinSections` which contains an entry ('for each thin section, contfor each thin section in an array, then make a list object that contains all four image stacks, together with a name for each. \n",
    "\n",
    "\n",
    "## Break down of the original code provided by Akshay (now modified):\n",
    "1. Create the list `thinSections`. This is a `dict` object that contains the thin section `name` and `stack` (the root folder )\n",
    "2. Create a loop that iterates over every directory in the parent folder with the name 'RAW' and extracts the .tiffs within into a 3D array, then adds the image stack to the `thinSections` list object:\n",
    "    2.1 Navigates to a directory called 'RAW'\n",
    "    \n",
    "    2.1.1 In the 'RAW' directory, use the name of the folder the 'RAW' folder is in as the `thinSectionName` and adds it to the thinSections object as a key:`name` `dict` object.\n",
    "        \n",
    "    2.1.2 Find the number of files in the 'RAW' folder. \n",
    "        \n",
    "    2.1.3 For all 'RAW' folders that have files in them, \n",
    "            \n",
    "    2.1.3.1 Create boolean that logs whether or not the image stack is complete. \n",
    "    \n",
    "    2.1.3.2 Create an empty array for the image stack. \n",
    "    \n",
    "    2.1.3.3 Count the number of image stacks/RAW folders being iterated over.\n",
    "    \n",
    "    2.1.4 For each .tiff, open the file, turn it into an array, and add it to the `mapStack`, which is the loop's working image stack, at the layer specified by section count. The section count indexes each 2D layer by counting the layers.\n",
    "            \n",
    "    Refer to the code to understand the rest. \n",
    "            \n",
    "\n",
    "Things added: \n",
    "- Map filename element within each thin section element. "
   ]
  },
  {
   "cell_type": "code",
   "execution_count": 3,
   "metadata": {},
   "outputs": [],
   "source": [
    "# We know that we can turn one image into an array...can we stack all the images for a thin section into one, 3D array?\n",
    "\n",
    "# Create an list, aka array (NOT a NumPy array(!!) that will contain all thin sections and their names as dict objects.\n",
    "\n",
    "thinSections = [] # empty LIST for the all stacked thin section arrays\n",
    "\n",
    "iteration = 0 # tracker for \n",
    "\n",
    "# Everything in this for loop will iterate over thin section. Everything in this loop is happening to ONE THIN SECTION at a time. \n",
    "# Okay, for every folder in our parent folder\n",
    "\n",
    "for root, dirs, files in os.walk('.//'):\n",
    "    # './/' means the CURRENT working directory. In this case, it is the one that the jupyter notebook is stored in (perfect!)\n",
    "        \n",
    "        #didnt work # the walk() function is parsing in a weird order, so this fixes that with more computation:\n",
    "        #files = sorted(files)\n",
    "        \n",
    "        # Does the directory contain the word RAW?\n",
    "        if \"RAW\" in root:\n",
    "            # If so, what is the name of the thin section? Use the root (as in /root/RAW/mapsAreHere.tiff) folder as the name of the thin section.\n",
    "            thinSectionName = os.path.basename(os.path.dirname(root))\n",
    "            # Add the name to the list.\n",
    "            thinSections.append(dict({'name': thinSectionName}))\n",
    "            \n",
    "            # Are there files in the RAW folder?\n",
    "            numberOfFiles = len(files)\n",
    "                \n",
    "            # If yes, let's figure out what the files are. Particularly, we want to identify files that aren't .tiffs, since we're not using those. \n",
    "            if numberOfFiles > 0:\n",
    "                # make an empty list for all filenames\n",
    "                fileList = []\n",
    "                # make an empty list for booleans: Is this file a .tif(f)? True/False (for later)\n",
    "                tiff_filter = []\n",
    "\n",
    "                # check each file in the RAW folder\n",
    "                for file in files:\n",
    "                    # get the name of the file\n",
    "                    filename = file\n",
    "                    # get a TRUE for a .tif(f) and a FALSE for other filetypes\n",
    "                    is_tiff = os.path.splitext(filename)[1].lower() == '.tiff', '.tif'\n",
    "            \n",
    "                    #add the results to the lists \n",
    "                    fileList.append(filename)\n",
    "                    tiff_filter.append(is_tiff[0])\n",
    "\n",
    "                #print(\"There are\", numberOfFiles, \"files in \", thinSectionName, \"\\u200B/RAW/:\", fileList)\n",
    "                #print(\"Booleans (if .tif(f) then True): \", tiff_filter)\n",
    "\n",
    "                # now we'll make a list of the filenames of ONLY the .tif(f) files in the RAW folder. \n",
    "                # In our case, there are only .tiff files, anyways.\n",
    "                tiffList = [value for value, condition in zip(fileList, tiff_filter) if condition]\n",
    "                numberOfTiffs = len(tiffList)\n",
    "                # print(tiffList)\n",
    "                # We'll also add this list of .tif(f) filenames, so that we can reference it later and keep track of which array\n",
    "                # is for which element\n",
    "                thinSections[iteration]['mapNames'] = tiffList\n",
    "\n",
    "                # Next we want to actually load the .tiffs and put them in our mapStack in our thinSection list \n",
    "                # along with the thin section name and the map filenames. \n",
    "                # by default, when we start making the map stack now, there is no map stack array, \n",
    "                # so we need to make one, but need to make it the shape of the thin section map data.\n",
    "                # We do this by setting its condition now (False), then creating the array and setting the condition to true in an \n",
    "                # if statement that only runs if the condition is false. This way, we run the for loop for every file, but only create\n",
    "                # the mapStack array during the first iteration, using the shape of the first map. \n",
    "                arraySet = False \n",
    "                # We also keep track of the number of maps we've added.\n",
    "                tsMapCount = 0\n",
    "\n",
    "\n",
    "                # for each .tiff file,\n",
    "                for file in tiffList:\n",
    "                    # open the file\n",
    "                    single_tsMap = Image.open(os.path.join(root, file))\n",
    "                    # convert it to a 2D numpy array\n",
    "                    single_MapArray = np.asarray(single_tsMap)\n",
    "                    #print(single_MapArray.shape)\n",
    "                    \n",
    "                    #the next two lines of code aren't needed anymore because of the fileList and tiff_filter functionalities\n",
    "                    # get the filename of the map .tiff\n",
    "                    #tsMapName = file\n",
    "                    #print(tsMapName)\n",
    "                    \n",
    "                    #during the first iteration of the loop, create the map stack array:\n",
    "                    if not arraySet: \n",
    "                        # get the shape of the image data\n",
    "                        tsShape = single_MapArray.shape\n",
    "                        # create an empty array with that shape and a third dimension with a spot for each map layer\n",
    "                        mapStack = np.empty([tsShape[0], tsShape[1], numberOfTiffs])\n",
    "                        # set the map stack condition to created.\n",
    "                        arraySet = True\n",
    "\n",
    "\n",
    "                    # Now we want to append the 2D map array to the mapstack at the right \n",
    "                    # 3D index (0 for the first map, 1 for the second, ... 8 for the ninth map)\n",
    "                    mapStack[:, :, tsMapCount] = single_MapArray\n",
    "                    # increase the map counter and repeat for the next .tif(f) file. \n",
    "                    tsMapCount += 1\n",
    "                \n",
    "                # Now, we've got a list with each thin section as a dictionary element. \n",
    "                # In each element, there are two keys (the name of the thin section, and the list of .tiffs used in the map stack, both of which we added earlier)\n",
    "                # Next we'll add the mapStack we just created for the thin section we are currently iterating over. \n",
    "                thinSections[iteration]['stack'] = mapStack \n",
    "                \n",
    "\n",
    "            # we increase the interation counter and iterate over the next RAW folder/thin section.     \n",
    "            iteration += 1\n",
    "\n",
    "\n",
    "\n",
    "\n",
    "#these print commands are for troubleshooting.\n",
    "#print(thinSectionName)\n",
    "#print(\"tsArray.shape:\", tsArray.shape)\n",
    "#print (\"Number of thin sections \", iteration)\n",
    "#print(\"sectionCount:\", sectionCount)\n",
    "#print(\"thinSections:\", thinSections)\n",
    "#print(\"length of thinSections:\", len(thinSections))\n",
    "# for section in thinSections:\n",
    "#     tsName = section.get('name', 'N/A') \n",
    "#     print(\"Keys for \", tsName)\n",
    "#     for key in section.keys():\n",
    "#         print(f\"  {key}\")\n",
    "#     print()\n"
   ]
  },
  {
   "cell_type": "markdown",
   "metadata": {},
   "source": [
    "We now have `thinSections`, which is a list that contains 4 elements, one for each thin section. Each element is a thin section, and contains \n",
    "- `name`: (name of thin section from root dir folder name), and\n",
    "- `stack`: (3D numpy array that is an image stack of all the .tiffs of that thin section), \n",
    "- `mapNames`: List of the names of the individual .tiff files\n",
    "- (`mappedElements`: List of the individual elements in each map)"
   ]
  },
  {
   "cell_type": "markdown",
   "metadata": {},
   "source": [
    "Next we want to create a widget to work with these image stacks. "
   ]
  },
  {
   "cell_type": "markdown",
   "metadata": {},
   "source": [
    "## Creating the widget\n",
    "\n",
    "We want to be able to\n",
    "\n",
    "- create RGB images\n",
    "    - choose a thin section\n",
    "    - select a map from the thin section's map stack for each channel\n",
    "    - compile the selected maps into and RGB image and display the image\n",
    "    - save the image to the right location with right filename\n",
    "\n",
    "It would be nice to add additional functionalities, such as the ability to view the individual 8-bit chemical maps with different colormaps."
   ]
  },
  {
   "cell_type": "markdown",
   "metadata": {},
   "source": [
    "1. Add the names of each layer to the dropdown lists for each channel. (customized dropdown fields) Add a 'display vector'.\n",
    "2. \n",
    "\n",
    "3. training data?\n"
   ]
  },
  {
   "cell_type": "code",
   "execution_count": 4,
   "metadata": {},
   "outputs": [
    {
     "data": {
      "application/vnd.jupyter.widget-view+json": {
       "model_id": "704a1459b49141fcbf32bb83a7c8f06c",
       "version_major": 2,
       "version_minor": 0
      },
      "text/plain": [
       "Dropdown(description='Thin Section:', options=(None, 0, 1, 2, 3), value=None)"
      ]
     },
     "metadata": {},
     "output_type": "display_data"
    },
    {
     "data": {
      "application/vnd.jupyter.widget-view+json": {
       "model_id": "8d294789cc1047729d0cf1d918da581f",
       "version_major": 2,
       "version_minor": 0
      },
      "text/plain": [
       "Dropdown(description='R', options=(None,), value=None)"
      ]
     },
     "metadata": {},
     "output_type": "display_data"
    },
    {
     "data": {
      "application/vnd.jupyter.widget-view+json": {
       "model_id": "c4aff07cd5ee416ba581dd800c2d5aa3",
       "version_major": 2,
       "version_minor": 0
      },
      "text/plain": [
       "Dropdown(description='G', options=(None,), value=None)"
      ]
     },
     "metadata": {},
     "output_type": "display_data"
    },
    {
     "data": {
      "application/vnd.jupyter.widget-view+json": {
       "model_id": "d5a69045dbf94cffbd892a9a63c84376",
       "version_major": 2,
       "version_minor": 0
      },
      "text/plain": [
       "Dropdown(description='B', options=(None,), value=None)"
      ]
     },
     "metadata": {},
     "output_type": "display_data"
    },
    {
     "data": {
      "application/vnd.jupyter.widget-view+json": {
       "model_id": "38fa081ff9e84867abeb092cd339e792",
       "version_major": 2,
       "version_minor": 0
      },
      "text/plain": [
       "Button(button_style='success', description='Compile to RGB and view', icon='check', style=ButtonStyle(), toolt…"
      ]
     },
     "metadata": {},
     "output_type": "display_data"
    },
    {
     "data": {
      "application/vnd.jupyter.widget-view+json": {
       "model_id": "396b2643adc640ff884be481ce472c41",
       "version_major": 2,
       "version_minor": 0
      },
      "text/plain": [
       "Button(button_style='success', description='Save as .tiff', style=ButtonStyle(), tooltip='Click to save select…"
      ]
     },
     "metadata": {},
     "output_type": "display_data"
    },
    {
     "data": {
      "application/vnd.jupyter.widget-view+json": {
       "model_id": "30332d33e3f540cc97e031b965df9305",
       "version_major": 2,
       "version_minor": 0
      },
      "text/plain": [
       "Output()"
      ]
     },
     "metadata": {},
     "output_type": "display_data"
    }
   ],
   "source": [
    "# Assuming you have a function to calculate the shape of the thin section stack\n",
    "# def get_stack_shape(thin_section):\n",
    "    # return thin_section[.......]['stack'].shape\n",
    "\n",
    "thinsectionindex = 0\n",
    "\n",
    "# Get the stack and its shape for the initially selected thin section\n",
    "thisThinSection = thinSections[thinsectionindex]\n",
    "stack = thisThinSection['stack']\n",
    "stackShape = stack.shape\n",
    "\n",
    "thinSectionNames = thinSections[:][0]\n",
    "# Create a dropdown widget for thin section selection\n",
    "thinSectionDropdown = widgets.Dropdown(\n",
    "    options= [None] + list(range(len(thinSections))),\n",
    "    description='Thin Section:'\n",
    ")\n",
    "\n",
    "# Create dropdown widgets for the three dimensions\n",
    "channel1Dropdown = widgets.Dropdown(\n",
    "    options=[None],\n",
    "    description='R'\n",
    ")\n",
    "\n",
    "channel2Dropdown = widgets.Dropdown(\n",
    "    options=[None],\n",
    "    description='G'\n",
    ")\n",
    "\n",
    "channel3Dropdown = widgets.Dropdown(\n",
    "    options=[None],\n",
    "    description='B'\n",
    ")\n",
    "\n",
    "# Update channel dropdown options based on the selected thin section\n",
    "def update_channel_options(change):\n",
    "    selected_index = change.new\n",
    "    selected_thin_section = thinSections[selected_index]\n",
    "    selected_stack = selected_thin_section['stack']\n",
    "    selected_stack_shape = selected_stack.shape\n",
    "    channel1Dropdown.options = [None] + list(range(selected_stack_shape[2]))\n",
    "    channel2Dropdown.options = [None] + list(range(selected_stack_shape[2]))\n",
    "    channel3Dropdown.options = [None] + list(range(selected_stack_shape[2]))\n",
    "\n",
    "# Attach the update_channel_options function to the observe method of thinSectionDropdown\n",
    "thinSectionDropdown.observe(update_channel_options, names='value')\n",
    "\n",
    "\n",
    "# Create a button widget to trigger visualization\n",
    "compileBtn = widgets.Button(\n",
    "    description='Compile to RGB and view',\n",
    "    disabled=False,\n",
    "    button_style='success',  # 'success', 'info', 'warning', 'danger' or ''\n",
    "    tooltip='Click to compile selection to RGB and view the output.',\n",
    "    icon='check'\n",
    ")\n",
    "\n",
    "# Create a button widget to save files\n",
    "savefileBtn = widgets.Button(\n",
    "    description='Save as .tiff',\n",
    "    disabled=False,\n",
    "    button_style='success',  # 'success', 'info', 'warning', 'danger' or ''\n",
    "    tooltip='Click to save selection to .tiff.',\n",
    "    icon=''\n",
    ")\n",
    "\n",
    "\n",
    "# Create an output widget to display the image\n",
    "output = widgets.Output()\n",
    "\n",
    "\n",
    "def compile(b):\n",
    "\n",
    "    # Get the selected thin section\n",
    "    selectedThinSectionIndex = thinSectionDropdown.value\n",
    "    thisThinSection = thinSections[selectedThinSectionIndex]\n",
    "    thisStack = thisThinSection['stack']\n",
    "    thisStackShape = thisStack.shape\n",
    "\n",
    "    recastThinSection = np.empty([thisStackShape[0], thisStackShape[1], 3], dtype='int')\n",
    "    \n",
    "    recastThinSection[:,:,0] = thisStack[:,:,channel1Dropdown.value]\n",
    "    recastThinSection[:,:,1] = thisStack[:,:,channel2Dropdown.value]\n",
    "    recastThinSection[:,:,2] = thisStack[:,:,channel3Dropdown.value]\n",
    "    # Display the image using Matplotlib\n",
    "    with output:\n",
    "        output.clear_output()\n",
    "        plt.figure(figsize=(8, 6))\n",
    "        plt.imshow(recastThinSection)  # You can change the colormap as needed\n",
    "        plt.show()\n",
    "\n",
    "system = platform.system()\n",
    "def savefile(b):\n",
    "    # Get the selected thin section\n",
    "    selectedThinSectionIndex = thinSectionDropdown.value\n",
    "    thisThinSection = thinSections[selectedThinSectionIndex]\n",
    "    thisStack = thisThinSection['stack']\n",
    "    thisStackShape = thisStack.shape\n",
    "\n",
    "    recastThinSection = np.empty([thisStackShape[0], thisStackShape[1], 3], dtype='int')\n",
    "    \n",
    "    recastThinSection[:,:,0] = thisStack[:,:,channel1Dropdown.value]\n",
    "    recastThinSection[:,:,1] = thisStack[:,:,channel2Dropdown.value]\n",
    "    recastThinSection[:,:,2] = thisStack[:,:,channel3Dropdown.value]\n",
    "\n",
    "        #turn the output array back into a .tiff (?)\n",
    "        #rgb_array_uint8 = np.clip(recastThinSection, 0, 255).astype(np.uint8)\n",
    "        #save the file to the working directory\n",
    "        #imageio.imwrite('output_image.tiff', rgb_array_uint8)  \n",
    "\n",
    "# # Save the file using the appropriate file saving prompt\n",
    "#     if system == 'Darwin':  # macOS\n",
    "#         from tkinterdnd2 import TkinterDnD, TkinterDnDThemed\n",
    "#         from tkinterdnd2.simpledialog import askstring\n",
    "#         root = TkinterDnDThemed.Tk()\n",
    "#         root.withdraw()  # Hide the main window\n",
    "#         file_path = askstring('Save File', 'Enter a file name:', initialfile='output_image.tiff', filetypes=[('TIFF files', '*.tiff')])\n",
    "#     elif system == 'Windows':\n",
    "#         from tkinter import Tk, filedialog\n",
    "#         root = Tk()\n",
    "#         root.withdraw()  # Hide the main window\n",
    "#         file_path = filedialog.asksaveasfilename(defaultextension='.tiff', filetypes=[('TIFF files', '*.tiff')])\n",
    "\n",
    "#     if file_path:\n",
    "#         rgb_array_uint8 = np.clip(recastThinSection, 0, 255).astype(np.uint8)\n",
    "#         imageio.imwrite(file_path, rgb_array_uint8)\n",
    "#         print(f'File saved to: {file_path}')\n",
    "\n",
    "    # Save the file to a temporary directory\n",
    "    temp_dir = tempfile.mkdtemp()\n",
    "    temp_file_path = os.path.join(temp_dir, 'output_image.tiff')\n",
    "    rgb_array_uint8 = np.clip(recastThinSection, 0, 255).astype(np.uint8)\n",
    "    imageio.imwrite(temp_file_path, rgb_array_uint8)\n",
    "\n",
    "    # Open a file dialog to select the destination directory\n",
    "    root = Tk()\n",
    "    root.withdraw()  # Hide the main window\n",
    "    file_path = filedialog.asksaveasfilename(defaultextension='.tiff', filetypes=[('TIFF files', '*.tiff')])\n",
    "\n",
    "    if file_path:\n",
    "        shutil.copy(temp_file_path, file_path)\n",
    "        print(f'File saved to: {file_path}')\n",
    "\n",
    "    # Remove the temporary directory\n",
    "    shutil.rmtree(temp_dir)\n",
    "\n",
    "# Connect the button's click event to the visualization function\n",
    "compileBtn.on_click(compile) #when clicking the visualize button, run visualize(b)\n",
    "savefileBtn.on_click(savefile)\n",
    "# Display the widgets\n",
    "display(thinSectionDropdown, channel1Dropdown, channel2Dropdown, channel3Dropdown, compileBtn, savefileBtn)\n",
    "display(output)\n"
   ]
  },
  {
   "cell_type": "code",
   "execution_count": null,
   "metadata": {},
   "outputs": [],
   "source": []
  },
  {
   "cell_type": "code",
   "execution_count": null,
   "metadata": {},
   "outputs": [],
   "source": []
  },
  {
   "cell_type": "code",
   "execution_count": null,
   "metadata": {},
   "outputs": [],
   "source": []
  },
  {
   "cell_type": "code",
   "execution_count": null,
   "metadata": {},
   "outputs": [],
   "source": []
  },
  {
   "cell_type": "code",
   "execution_count": null,
   "metadata": {},
   "outputs": [],
   "source": []
  },
  {
   "cell_type": "code",
   "execution_count": null,
   "metadata": {},
   "outputs": [],
   "source": []
  },
  {
   "cell_type": "code",
   "execution_count": null,
   "metadata": {},
   "outputs": [],
   "source": []
  },
  {
   "cell_type": "code",
   "execution_count": null,
   "metadata": {},
   "outputs": [],
   "source": []
  }
 ],
 "metadata": {
  "kernelspec": {
   "display_name": "reconstructions",
   "language": "python",
   "name": "python3"
  },
  "language_info": {
   "codemirror_mode": {
    "name": "ipython",
    "version": 3
   },
   "file_extension": ".py",
   "mimetype": "text/x-python",
   "name": "python",
   "nbconvert_exporter": "python",
   "pygments_lexer": "ipython3",
   "version": "3.9.18"
  },
  "orig_nbformat": 4
 },
 "nbformat": 4,
 "nbformat_minor": 2
}
